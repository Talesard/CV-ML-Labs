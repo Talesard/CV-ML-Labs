{
 "cells": [
  {
   "cell_type": "markdown",
   "id": "9da0aa06",
   "metadata": {},
   "source": [
    "# Распознавание образов #3\n",
    "#### Напылов Евгений 381806-2"
   ]
  },
  {
   "cell_type": "markdown",
   "id": "39a63877",
   "metadata": {},
   "source": [
    "ТЗ: применить KNN, подобрать число соседей, результаты"
   ]
  },
  {
   "cell_type": "code",
   "execution_count": 1,
   "id": "1be64617",
   "metadata": {},
   "outputs": [],
   "source": [
    "from torchvision import datasets\n",
    "%matplotlib inline\n",
    "import matplotlib.pyplot as plt\n",
    "from sklearn.neighbors import KNeighborsClassifier\n",
    "from sklearn.metrics import accuracy_score, f1_score, confusion_matrix, classification_report\n",
    "import torch.utils.data as data\n",
    "import numpy as np\n",
    "import tqdm"
   ]
  },
  {
   "cell_type": "code",
   "execution_count": 2,
   "id": "cba576b7",
   "metadata": {},
   "outputs": [],
   "source": [
    "dataset = datasets.MNIST('data', download=True)"
   ]
  },
  {
   "cell_type": "code",
   "execution_count": 3,
   "id": "f89e691b",
   "metadata": {},
   "outputs": [
    {
     "data": {
      "text/plain": [
       "60000"
      ]
     },
     "execution_count": 3,
     "metadata": {},
     "output_type": "execute_result"
    }
   ],
   "source": [
    "len(dataset)"
   ]
  },
  {
   "cell_type": "code",
   "execution_count": 4,
   "id": "e2814105",
   "metadata": {},
   "outputs": [],
   "source": [
    "def show(image, label):\n",
    "    plt.xticks([])\n",
    "    plt.yticks([])\n",
    "    plt.imshow(image, cmap=\"binary\")\n",
    "    plt.text(0, 27, label, color = 'g')"
   ]
  },
  {
   "cell_type": "code",
   "execution_count": 5,
   "id": "19294fca",
   "metadata": {},
   "outputs": [
    {
     "data": {
      "image/png": "[encoded data removed]",
      "text/plain": [
       "<Figure size 720x432 with 6 Axes>"
      ]
     },
     "metadata": {},
     "output_type": "display_data"
    }
   ],
   "source": [
    "N = 6\n",
    "plt.figure(figsize=(10,6))\n",
    "for i in range(N):\n",
    "    plt.subplot(6, 10, i + 1)\n",
    "    show(dataset[i][0], dataset[i][1])"
   ]
  },
  {
   "cell_type": "markdown",
   "id": "df6da32e",
   "metadata": {},
   "source": [
    "### Разбиваем данные"
   ]
  },
  {
   "cell_type": "code",
   "execution_count": 6,
   "id": "f5f7939b",
   "metadata": {},
   "outputs": [
    {
     "data": {
      "text/plain": [
       "(42000, 18000)"
      ]
     },
     "execution_count": 6,
     "metadata": {},
     "output_type": "execute_result"
    }
   ],
   "source": [
    "ratio = 0.7\n",
    "train_size = int(ratio * len(dataset))\n",
    "test_size = len(dataset) - train_size\n",
    "train_size, test_size"
   ]
  },
  {
   "cell_type": "code",
   "execution_count": 7,
   "id": "302ce385",
   "metadata": {},
   "outputs": [],
   "source": [
    "train, test = data.random_split(dataset, [train_size, test_size])"
   ]
  },
  {
   "cell_type": "code",
   "execution_count": 8,
   "id": "ef031f75",
   "metadata": {},
   "outputs": [
    {
     "name": "stderr",
     "output_type": "stream",
     "text": [
      "C:\\Users\\veter\\AppData\\Local\\Temp/ipykernel_13252/497745403.py:1: FutureWarning: The input object of type 'Image' is an array-like implementing one of the corresponding protocols (`__array__`, `__array_interface__` or `__array_struct__`); but not a sequence (or 0-D). In the future, this object will be coerced as if it was first converted using `np.array(obj)`. To retain the old behaviour, you have to either modify the type 'Image', or assign to an empty array created with `np.empty(correct_shape, dtype=object)`.\n",
      "  train = np.array(train)\n",
      "C:\\Users\\veter\\AppData\\Local\\Temp/ipykernel_13252/497745403.py:1: VisibleDeprecationWarning: Creating an ndarray from ragged nested sequences (which is a list-or-tuple of lists-or-tuples-or ndarrays with different lengths or shapes) is deprecated. If you meant to do this, you must specify 'dtype=object' when creating the ndarray.\n",
      "  train = np.array(train)\n",
      "C:\\Users\\veter\\AppData\\Local\\Temp/ipykernel_13252/497745403.py:2: FutureWarning: The input object of type 'Image' is an array-like implementing one of the corresponding protocols (`__array__`, `__array_interface__` or `__array_struct__`); but not a sequence (or 0-D). In the future, this object will be coerced as if it was first converted using `np.array(obj)`. To retain the old behaviour, you have to either modify the type 'Image', or assign to an empty array created with `np.empty(correct_shape, dtype=object)`.\n",
      "  test = np.array(test)\n",
      "C:\\Users\\veter\\AppData\\Local\\Temp/ipykernel_13252/497745403.py:2: VisibleDeprecationWarning: Creating an ndarray from ragged nested sequences (which is a list-or-tuple of lists-or-tuples-or ndarrays with different lengths or shapes) is deprecated. If you meant to do this, you must specify 'dtype=object' when creating the ndarray.\n",
      "  test = np.array(test)\n"
     ]
    }
   ],
   "source": [
    "train = np.array(train)\n",
    "test = np.array(test)"
   ]
  },
  {
   "cell_type": "code",
   "execution_count": 9,
   "id": "40a2997a",
   "metadata": {},
   "outputs": [
    {
     "data": {
      "text/plain": [
       "(42000, 2)"
      ]
     },
     "execution_count": 9,
     "metadata": {},
     "output_type": "execute_result"
    }
   ],
   "source": [
    "train.shape"
   ]
  },
  {
   "cell_type": "code",
   "execution_count": 10,
   "id": "f934ee38",
   "metadata": {},
   "outputs": [],
   "source": [
    "x_train = train[:, 0]\n",
    "y_train = train[:, 1]\n",
    "y_train = y_train.astype('int')\n",
    "x_train = np.stack(x_train)\n",
    "x_train = x_train.reshape((x_train.shape[0], -1))"
   ]
  },
  {
   "cell_type": "code",
   "execution_count": 11,
   "id": "ddd83644",
   "metadata": {},
   "outputs": [
    {
     "data": {
      "text/plain": [
       "(42000, 784)"
      ]
     },
     "execution_count": 11,
     "metadata": {},
     "output_type": "execute_result"
    }
   ],
   "source": [
    "x_train.shape"
   ]
  },
  {
   "cell_type": "code",
   "execution_count": 12,
   "id": "4d4e73d1",
   "metadata": {},
   "outputs": [],
   "source": [
    "x_test = test[:, 0]\n",
    "y_test = test[:, 1]\n",
    "y_test = y_test.astype('int')\n",
    "x_test = np.stack(x_test)\n",
    "x_test = x_test.reshape((x_test.shape[0], -1))"
   ]
  },
  {
   "cell_type": "code",
   "execution_count": 13,
   "id": "1049aec2",
   "metadata": {},
   "outputs": [
    {
     "data": {
      "text/plain": [
       "(18000, 784)"
      ]
     },
     "execution_count": 13,
     "metadata": {},
     "output_type": "execute_result"
    }
   ],
   "source": [
    "x_test.shape"
   ]
  },
  {
   "cell_type": "code",
   "execution_count": 14,
   "id": "caf35bff",
   "metadata": {},
   "outputs": [
    {
     "data": {
      "text/plain": [
       "array([[0, 0, 0, ..., 0, 0, 0],\n",
       "       [0, 0, 0, ..., 0, 0, 0],\n",
       "       [0, 0, 0, ..., 0, 0, 0],\n",
       "       ...,\n",
       "       [0, 0, 0, ..., 0, 0, 0],\n",
       "       [0, 0, 0, ..., 0, 0, 0],\n",
       "       [0, 0, 0, ..., 0, 0, 0]], dtype=uint8)"
      ]
     },
     "execution_count": 14,
     "metadata": {},
     "output_type": "execute_result"
    }
   ],
   "source": [
    "x_train"
   ]
  },
  {
   "cell_type": "code",
   "execution_count": 15,
   "id": "19dd08d5",
   "metadata": {},
   "outputs": [
    {
     "data": {
      "text/plain": [
       "array([1, 3, 3, ..., 2, 5, 1])"
      ]
     },
     "execution_count": 15,
     "metadata": {},
     "output_type": "execute_result"
    }
   ],
   "source": [
    "y_train"
   ]
  },
  {
   "cell_type": "markdown",
   "id": "45d0948c",
   "metadata": {},
   "source": [
    "### Подбираем число соседей"
   ]
  },
  {
   "cell_type": "code",
   "execution_count": 16,
   "id": "3644e405",
   "metadata": {},
   "outputs": [
    {
     "data": {
      "application/vnd.jupyter.widget-view+json": {
       "model_id": "ff778c254ad54aa9a9b35abae67a00e2",
       "version_major": 2,
       "version_minor": 0
      },
      "text/plain": [
       "  0%|          | 0/18 [00:00<?, ?it/s]"
      ]
     },
     "metadata": {},
     "output_type": "display_data"
    }
   ],
   "source": [
    "neighbors_list = list(range(1, 11)) + list(range(10, 50, 5))\n",
    "err_train = []\n",
    "err_test = []\n",
    "for k in tqdm.notebook.tqdm(neighbors_list):\n",
    "    model = KNeighborsClassifier(n_neighbors = k)\n",
    "    model.fit(x_train, y_train)\n",
    "    err_train.append(np.mean(model.predict(x_train) != y_train))\n",
    "    err_test.append(np.mean(model.predict(x_test) != y_test))"
   ]
  },
  {
   "cell_type": "code",
   "execution_count": 17,
   "id": "3c0bc69d",
   "metadata": {},
   "outputs": [
    {
     "data": {
      "text/plain": [
       "<matplotlib.legend.Legend at 0x22c65d00d60>"
      ]
     },
     "execution_count": 17,
     "metadata": {},
     "output_type": "execute_result"
    },
    {
     "data": {
      "image/png": "[encoded data removed]",
      "text/plain": [
       "<Figure size 432x288 with 1 Axes>"
      ]
     },
     "metadata": {
      "needs_background": "light"
     },
     "output_type": "display_data"
    }
   ],
   "source": [
    "plt.plot(kk, err_train, '.-r', label = 'Err train')\n",
    "plt.plot(kk, err_test,  '.-b', label = 'Err test')    \n",
    "plt.legend(loc = 2)"
   ]
  },
  {
   "cell_type": "code",
   "execution_count": 18,
   "id": "1ffd98f9",
   "metadata": {},
   "outputs": [
    {
     "name": "stdout",
     "output_type": "stream",
     "text": [
      "0.029555555555555557\n",
      "3\n"
     ]
    }
   ],
   "source": [
    "print(min(err_test))\n",
    "opt_n_neighbors = kk[np.argmin(err_test)]\n",
    "print(opt_n_neighbors)"
   ]
  },
  {
   "cell_type": "markdown",
   "id": "062ad3cf",
   "metadata": {},
   "source": [
    "### Результаты с оптимальным числом соседей"
   ]
  },
  {
   "cell_type": "code",
   "execution_count": 19,
   "id": "2955fb1d",
   "metadata": {},
   "outputs": [
    {
     "data": {
      "text/plain": [
       "KNeighborsClassifier(n_neighbors=3)"
      ]
     },
     "execution_count": 19,
     "metadata": {},
     "output_type": "execute_result"
    }
   ],
   "source": [
    "knn = KNeighborsClassifier(n_neighbors = opt_n_neighbors)\n",
    "knn.fit(x_train, y_train)"
   ]
  },
  {
   "cell_type": "markdown",
   "id": "e7fb277e",
   "metadata": {},
   "source": [
    "#### На тестовой выборке"
   ]
  },
  {
   "cell_type": "code",
   "execution_count": 20,
   "id": "0e0139f0",
   "metadata": {},
   "outputs": [
    {
     "name": "stdout",
     "output_type": "stream",
     "text": [
      "Wall time: 14.1 s\n"
     ]
    },
    {
     "data": {
      "text/plain": [
       "0.029555555555555557"
      ]
     },
     "execution_count": 20,
     "metadata": {},
     "output_type": "execute_result"
    }
   ],
   "source": [
    "%%time\n",
    "y_test_predict = knn.predict(x_test)\n",
    "err_test  = np.mean(y_test  != y_test_predict)\n",
    "err_test"
   ]
  },
  {
   "cell_type": "code",
   "execution_count": 21,
   "id": "1cf0a578",
   "metadata": {},
   "outputs": [],
   "source": [
    "def plot_conf_matrix(predict_labels, true_labels):\n",
    "    M = confusion_matrix(predict_labels, true_labels)\n",
    "    M = np.sqrt(M)\n",
    "    plt.imshow(M, interpolation = 'nearest')\n",
    "    plt.set_cmap('binary')\n",
    "    plt.xticks(range(10))\n",
    "    plt.yticks(range(10))\n",
    "    plt.xlabel(\"true digit\")\n",
    "    plt.ylabel(\"predicted digit\")\n",
    "    plt.colorbar()"
   ]
  },
  {
   "cell_type": "code",
   "execution_count": 22,
   "id": "1d056328",
   "metadata": {},
   "outputs": [
    {
     "data": {
      "image/png": "[encoded data removed]",
      "text/plain": [
       "<Figure size 432x288 with 2 Axes>"
      ]
     },
     "metadata": {
      "needs_background": "light"
     },
     "output_type": "display_data"
    }
   ],
   "source": [
    "plot_conf_matrix(y_test_predict, y_test)"
   ]
  },
  {
   "cell_type": "code",
   "execution_count": 23,
   "id": "d283e0d2",
   "metadata": {},
   "outputs": [
    {
     "name": "stdout",
     "output_type": "stream",
     "text": [
      "              precision    recall  f1-score   support\n",
      "\n",
      "           0       0.98      0.99      0.98      1807\n",
      "           1       0.95      1.00      0.97      2001\n",
      "           2       0.99      0.97      0.98      1775\n",
      "           3       0.97      0.97      0.97      1817\n",
      "           4       0.97      0.96      0.97      1695\n",
      "           5       0.96      0.97      0.96      1623\n",
      "           6       0.98      0.99      0.98      1782\n",
      "           7       0.97      0.97      0.97      1914\n",
      "           8       0.99      0.93      0.96      1770\n",
      "           9       0.95      0.96      0.96      1816\n",
      "\n",
      "    accuracy                           0.97     18000\n",
      "   macro avg       0.97      0.97      0.97     18000\n",
      "weighted avg       0.97      0.97      0.97     18000\n",
      "\n"
     ]
    }
   ],
   "source": [
    "print(classification_report(y_test, y_test_predict))"
   ]
  },
  {
   "cell_type": "code",
   "execution_count": 24,
   "id": "08f0d823",
   "metadata": {},
   "outputs": [
    {
     "name": "stdout",
     "output_type": "stream",
     "text": [
      "0.9704444444444444\n"
     ]
    }
   ],
   "source": [
    "print(accuracy_score(y_test, y_test_predict))"
   ]
  },
  {
   "cell_type": "code",
   "execution_count": 25,
   "id": "3d452cbc",
   "metadata": {},
   "outputs": [
    {
     "name": "stdout",
     "output_type": "stream",
     "text": [
      "0.9703047848503064\n"
     ]
    }
   ],
   "source": [
    "print(f1_score(y_test, y_test_predict, average='macro'))"
   ]
  },
  {
   "cell_type": "markdown",
   "id": "0b391d52",
   "metadata": {},
   "source": [
    "#### На обучающей выборке"
   ]
  },
  {
   "cell_type": "code",
   "execution_count": 26,
   "id": "c3cffecd",
   "metadata": {},
   "outputs": [
    {
     "name": "stdout",
     "output_type": "stream",
     "text": [
      "Wall time: 33.6 s\n"
     ]
    },
    {
     "data": {
      "text/plain": [
       "0.014690476190476191"
      ]
     },
     "execution_count": 26,
     "metadata": {},
     "output_type": "execute_result"
    }
   ],
   "source": [
    "%%time\n",
    "y_train_predict = knn.predict(x_train)\n",
    "err_train  = np.mean(y_train  != y_train_predict)\n",
    "err_train"
   ]
  },
  {
   "cell_type": "code",
   "execution_count": 27,
   "id": "51bcfa3b",
   "metadata": {},
   "outputs": [
    {
     "data": {
      "image/png": "[encoded data removed]",
      "text/plain": [
       "<Figure size 432x288 with 2 Axes>"
      ]
     },
     "metadata": {
      "needs_background": "light"
     },
     "output_type": "display_data"
    }
   ],
   "source": [
    "plot_conf_matrix(y_train_predict, y_train)"
   ]
  },
  {
   "cell_type": "code",
   "execution_count": 28,
   "id": "a1e297e4",
   "metadata": {},
   "outputs": [
    {
     "name": "stdout",
     "output_type": "stream",
     "text": [
      "              precision    recall  f1-score   support\n",
      "\n",
      "           0       0.99      1.00      0.99      4116\n",
      "           1       0.98      1.00      0.99      4741\n",
      "           2       0.99      0.98      0.98      4183\n",
      "           3       0.98      0.98      0.98      4314\n",
      "           4       0.99      0.98      0.99      4147\n",
      "           5       0.98      0.98      0.98      3798\n",
      "           6       0.99      1.00      0.99      4136\n",
      "           7       0.98      0.99      0.99      4351\n",
      "           8       0.99      0.96      0.98      4081\n",
      "           9       0.98      0.98      0.98      4133\n",
      "\n",
      "    accuracy                           0.99     42000\n",
      "   macro avg       0.99      0.99      0.99     42000\n",
      "weighted avg       0.99      0.99      0.99     42000\n",
      "\n"
     ]
    }
   ],
   "source": [
    "print(classification_report(y_train, y_train_predict))"
   ]
  },
  {
   "cell_type": "code",
   "execution_count": 29,
   "id": "4ac6af7e",
   "metadata": {},
   "outputs": [
    {
     "name": "stdout",
     "output_type": "stream",
     "text": [
      "0.9853095238095239\n"
     ]
    }
   ],
   "source": [
    "print(accuracy_score(y_train, y_train_predict))"
   ]
  },
  {
   "cell_type": "code",
   "execution_count": 30,
   "id": "7a91b0fb",
   "metadata": {},
   "outputs": [
    {
     "name": "stdout",
     "output_type": "stream",
     "text": [
      "0.9852348789011645\n"
     ]
    }
   ],
   "source": [
    "print(f1_score(y_train, y_train_predict, average='macro'))"
   ]
  },
  {
   "cell_type": "markdown",
   "id": "f68ea8d2",
   "metadata": {},
   "source": [
    "### Заключение\n",
    "Наибольшая точность была достигнута при 3-х соседях.   \n",
    "Точность на тестовой выборке: 0.970   \n",
    "Точность на тренировочной выборке: 0.985"
   ]
  },
  {
   "cell_type": "code",
   "execution_count": null,
   "id": "af729a75",
   "metadata": {},
   "outputs": [],
   "source": []
  }
 ],
 "metadata": {
  "kernelspec": {
   "display_name": "Python 3 (ipykernel)",
   "language": "python",
   "name": "python3"
  },
  "language_info": {
   "codemirror_mode": {
    "name": "ipython",
    "version": 3
   },
   "file_extension": ".py",
   "mimetype": "text/x-python",
   "name": "python",
   "nbconvert_exporter": "python",
   "pygments_lexer": "ipython3",
   "version": "3.9.6"
  }
 },
 "nbformat": 4,
 "nbformat_minor": 5
}
