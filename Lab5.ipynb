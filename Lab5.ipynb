{
 "cells": [
  {
   "cell_type": "markdown",
   "id": "27734651",
   "metadata": {},
   "source": [
    "# Распознавание образов #5\n",
    "#### Напылов Евгений 381806-2"
   ]
  },
  {
   "cell_type": "code",
   "execution_count": 1,
   "id": "0c639591",
   "metadata": {},
   "outputs": [],
   "source": [
    "import torch\n",
    "import matplotlib.pyplot as plt\n",
    "import numpy as np"
   ]
  },
  {
   "cell_type": "code",
   "execution_count": 2,
   "id": "98a734c2",
   "metadata": {},
   "outputs": [],
   "source": [
    "x_data = torch.tensor([[1.], [2.05], [3.]], requires_grad=False)\n",
    "y_data = torch.tensor([[2.], [4.], [6.]], requires_grad=False)"
   ]
  },
  {
   "cell_type": "code",
   "execution_count": 3,
   "id": "312c38d9",
   "metadata": {},
   "outputs": [
    {
     "data": {
      "text/plain": [
       "<matplotlib.collections.PathCollection at 0x23c6bdff430>"
      ]
     },
     "execution_count": 3,
     "metadata": {},
     "output_type": "execute_result"
    },
    {
     "data": {
      "image/png": "[encoded data removed]",
      "text/plain": [
       "<Figure size 432x288 with 1 Axes>"
      ]
     },
     "metadata": {
      "needs_background": "light"
     },
     "output_type": "display_data"
    }
   ],
   "source": [
    "plt.scatter(x_data, y_data)"
   ]
  },
  {
   "cell_type": "code",
   "execution_count": 4,
   "id": "028cfaa4",
   "metadata": {},
   "outputs": [],
   "source": [
    "class LinearRegressionModel(torch.nn.Module):\n",
    "    def __init__(self):\n",
    "        super(LinearRegressionModel, self).__init__()\n",
    "        self.linear = torch.nn.Linear(1, 1)\n",
    "    \n",
    "    def forward(self, x):\n",
    "        y_pred = self.linear(x)\n",
    "        return y_pred\n",
    "    \n",
    "    def __repr__(self):\n",
    "        repr = \"\"\n",
    "        for name, param in self.named_parameters():\n",
    "            if param.requires_grad:\n",
    "                repr += f'{name} {param.data}\\n'\n",
    "        return repr\n",
    "    \n",
    "    def get_a_b(self):\n",
    "        params = []\n",
    "        for p in self.parameters(): \n",
    "            params.append(p.item())\n",
    "        return params\n",
    "    \n",
    "    def fit(self, N_epoch, eps, criterion, optimizer, x_data, y_data):\n",
    "        loss_arr = []\n",
    "        loss_last = -1000\n",
    "        for e in range(N_epoch):\n",
    "            pred_y = model(x_data)\n",
    "            loss = criterion(pred_y, y_data)\n",
    "            loss_arr.append(loss)\n",
    "            optimizer.zero_grad()\n",
    "            loss.backward()\n",
    "            optimizer.step()\n",
    "            print(e, loss.item())\n",
    "            if abs(loss.item() - loss_last) < eps: break\n",
    "            loss_last = loss.item()\n",
    "        return loss_arr\n",
    "\n"
   ]
  },
  {
   "cell_type": "code",
   "execution_count": 5,
   "id": "c1bf27c5",
   "metadata": {},
   "outputs": [],
   "source": [
    "model = LinearRegressionModel()\n",
    "criterion = torch.nn.MSELoss()\n",
    "optimizer = torch.optim.Adam(model.parameters(), lr=0.1)"
   ]
  },
  {
   "cell_type": "markdown",
   "id": "62282a9f",
   "metadata": {},
   "source": [
    "**До обучения**"
   ]
  },
  {
   "cell_type": "code",
   "execution_count": 6,
   "id": "1c01ff0f",
   "metadata": {},
   "outputs": [
    {
     "data": {
      "text/plain": [
       "linear.weight tensor([[0.6521]])\n",
       "linear.bias tensor([0.1173])"
      ]
     },
     "execution_count": 6,
     "metadata": {},
     "output_type": "execute_result"
    }
   ],
   "source": [
    "model"
   ]
  },
  {
   "cell_type": "code",
   "execution_count": 7,
   "id": "20a335a9",
   "metadata": {},
   "outputs": [
    {
     "data": {
      "text/plain": [
       "7.804359436035156"
      ]
     },
     "execution_count": 7,
     "metadata": {},
     "output_type": "execute_result"
    }
   ],
   "source": [
    "pred_y = model(x_data)\n",
    "loss = criterion(pred_y, y_data)\n",
    "loss.item()"
   ]
  },
  {
   "cell_type": "markdown",
   "id": "b9063aa2",
   "metadata": {},
   "source": [
    "**Обучение**"
   ]
  },
  {
   "cell_type": "code",
   "execution_count": 8,
   "id": "37b29b6e",
   "metadata": {},
   "outputs": [
    {
     "name": "stdout",
     "output_type": "stream",
     "text": [
      "0 7.804359436035156\n",
      "1 6.173231601715088\n",
      "2 4.7440185546875\n",
      "3 3.5187923908233643\n",
      "4 2.4972586631774902\n",
      "5 1.6760644912719727\n",
      "6 1.0480419397354126\n",
      "7 0.6014550924301147\n",
      "8 0.31943920254707336\n",
      "9 0.17982740700244904\n",
      "10 0.15564030408859253\n",
      "11 0.21642495691776276\n",
      "12 0.3304300606250763\n",
      "13 0.4673144817352295\n",
      "14 0.6008303761482239\n",
      "15 0.7108802199363708\n",
      "16 0.7845516204833984\n",
      "17 0.8160578608512878\n",
      "18 0.8058163523674011\n",
      "19 0.7590141892433167\n",
      "20 0.6840019226074219\n",
      "21 0.59075528383255\n",
      "22 0.48954638838768005\n",
      "23 0.3898729383945465\n",
      "24 0.2996688783168793\n",
      "25 0.2247811108827591\n",
      "26 0.16870498657226562\n",
      "27 0.13256290555000305\n",
      "28 0.11530455201864243\n",
      "29 0.11409948021173477\n",
      "30 0.1248718723654747\n",
      "31 0.14291639626026154\n",
      "32 0.16351716220378876\n",
      "33 0.1824953556060791\n",
      "34 0.1966245174407959\n",
      "35 0.20387320220470428\n",
      "36 0.20346522331237793\n",
      "37 0.19577674567699432\n",
      "38 0.18210327625274658\n",
      "39 0.16434897482395172\n",
      "40 0.14468814432621002\n",
      "41 0.12524180114269257\n",
      "42 0.10781198740005493\n",
      "43 0.09369315952062607\n",
      "44 0.08357598632574081\n",
      "45 0.07754334062337875\n",
      "46 0.07514706254005432\n",
      "47 0.07554555684328079\n",
      "48 0.07767565548419952\n",
      "49 0.08043209463357925\n",
      "50 0.08282706141471863\n",
      "51 0.08411068469285965\n",
      "52 0.08384013921022415\n",
      "53 0.0818943902850151\n",
      "54 0.07843926548957825\n",
      "55 0.07385716587305069\n",
      "56 0.06865417212247849\n",
      "57 0.06336351484060287\n",
      "58 0.05845959857106209\n",
      "59 0.05429411306977272\n",
      "60 0.05106019973754883\n",
      "61 0.04878690838813782\n",
      "62 0.047360118478536606\n",
      "63 0.046562302857637405\n",
      "64 0.04612324759364128\n",
      "65 0.045770976692438126\n",
      "66 0.04527587816119194\n",
      "67 0.044480446726083755\n",
      "68 0.04331335425376892\n",
      "69 0.0417863167822361\n",
      "70 0.039979010820388794\n",
      "71 0.038013141602277756\n",
      "72 0.03602554276585579\n",
      "73 0.03414132818579674\n",
      "74 0.03245444595813751\n",
      "75 0.03101596236228943\n",
      "76 0.0298320222645998\n",
      "77 0.028869958594441414\n",
      "78 0.028069965541362762\n",
      "79 0.02736038900911808\n",
      "80 0.026671946048736572\n",
      "81 0.025949843227863312\n",
      "82 0.02516075037419796\n",
      "83 0.02429553121328354\n",
      "84 0.023366332054138184\n",
      "85 0.022400910034775734\n",
      "86 0.021434402093291283\n",
      "87 0.02050139009952545\n",
      "88 0.019629502668976784\n",
      "89 0.018835019320249557\n",
      "90 0.01812138594686985\n",
      "91 0.01748095266520977\n",
      "92 0.016897939145565033\n",
      "93 0.016352593898773193\n",
      "94 0.015825897455215454\n",
      "95 0.015302665531635284\n",
      "96 0.014774137176573277\n",
      "97 0.014238253235816956\n",
      "98 0.013698791153728962\n",
      "99 0.01316359918564558\n",
      "100 0.012642080895602703\n",
      "101 0.012143089435994625\n",
      "102 0.01167289912700653\n",
      "103 0.011234309524297714\n",
      "104 0.010826627723872662\n",
      "105 0.01044616848230362\n",
      "106 0.010087561793625355\n",
      "107 0.009745035320520401\n",
      "108 0.009413392283022404\n",
      "109 0.009089197963476181\n",
      "110 0.008770954795181751\n",
      "111 0.008458908647298813\n",
      "112 0.008154838345944881\n",
      "113 0.00786104891449213\n",
      "114 0.007579866796731949\n",
      "115 0.007312932517379522\n",
      "116 0.007061009760946035\n",
      "117 0.006823728326708078\n",
      "118 0.0065998476929962635\n",
      "119 0.006387606728821993\n",
      "120 0.006185168866068125\n",
      "121 0.005990805570036173\n",
      "122 0.005803365260362625\n",
      "123 0.005622291471809149\n",
      "124 0.00544758141040802\n",
      "125 0.0052794492803514\n",
      "126 0.005118534434586763\n",
      "127 0.00496526388451457\n",
      "128 0.004819920752197504\n",
      "129 0.004682406783103943\n",
      "130 0.004552417900413275\n",
      "131 0.004429392516613007\n",
      "132 0.0043126316741108894\n",
      "133 0.004201430827379227\n",
      "134 0.004095264244824648\n",
      "135 0.003993696998804808\n",
      "136 0.003896557493135333\n",
      "137 0.0038037158083170652\n",
      "138 0.003715228522196412\n",
      "139 0.003631167346611619\n",
      "140 0.0035515122581273317\n",
      "141 0.0034761831630021334\n",
      "142 0.003405001712962985\n",
      "143 0.0033377502113580704\n",
      "144 0.003274107351899147\n",
      "145 0.0032138193491846323\n",
      "146 0.0031566042453050613\n",
      "147 0.003102219430729747\n",
      "148 0.003050559898838401\n",
      "149 0.003001522272825241\n",
      "150 0.002955028787255287\n",
      "151 0.0029110421892255545\n",
      "152 0.0028694767970591784\n",
      "153 0.0028302688151597977\n",
      "154 0.002793309511616826\n",
      "155 0.002758500399067998\n",
      "156 0.0027256570756435394\n",
      "157 0.002694652182981372\n",
      "158 0.0026654163375496864\n",
      "159 0.002637748373672366\n",
      "160 0.0026116364169865847\n",
      "161 0.0025869642850011587\n",
      "162 0.0025637075304985046\n",
      "163 0.0025417963042855263\n",
      "164 0.002521190792322159\n",
      "165 0.0025018041487783194\n",
      "166 0.0024836116936057806\n",
      "167 0.002466542413458228\n",
      "168 0.0024504715111106634\n",
      "169 0.0024353917688131332\n",
      "170 0.0024212158750742674\n",
      "171 0.0024078860878944397\n",
      "172 0.0023953572381287813\n",
      "173 0.002383582992479205\n",
      "174 0.0023725556675344706\n",
      "175 0.0023622014559805393\n",
      "176 0.0023525094147771597\n",
      "177 0.0023434432223439217\n",
      "178 0.0023349535185843706\n",
      "179 0.00232702842913568\n",
      "180 0.002319593681022525\n",
      "181 0.002312634140253067\n",
      "182 0.0023061458487063646\n",
      "183 0.0023000615183264017\n",
      "184 0.0022943944204598665\n",
      "185 0.0022890924010425806\n",
      "186 0.002284129848703742\n",
      "187 0.00227949651889503\n",
      "188 0.0022752045188099146\n",
      "189 0.0022711774799972773\n",
      "190 0.002267435658723116\n",
      "191 0.002263976028189063\n",
      "192 0.0022607219871133566\n",
      "193 0.0022577031049877405\n",
      "194 0.0022549042478203773\n",
      "195 0.0022522874642163515\n",
      "196 0.002249869517982006\n",
      "197 0.002247609430924058\n",
      "198 0.0022454997524619102\n",
      "199 0.0022435530554503202\n",
      "200 0.002241757931187749\n",
      "201 0.002240084810182452\n",
      "202 0.002238511573523283\n",
      "203 0.0022370906081050634\n",
      "204 0.0022357699926942587\n",
      "205 0.002234538784250617\n",
      "206 0.0022333983797580004\n",
      "207 0.0022323366720229387\n",
      "208 0.002231370657682419\n",
      "209 0.0022304756566882133\n",
      "210 0.00222963560372591\n",
      "211 0.002228887751698494\n",
      "212 0.0022281762212514877\n",
      "213 0.002227521501481533\n",
      "214 0.002226898679509759\n",
      "215 0.0022263641003519297\n",
      "216 0.002225853269919753\n",
      "217 0.002225371776148677\n",
      "218 0.0022249387111514807\n",
      "219 0.0022245601285248995\n",
      "220 0.0022241787519305944\n",
      "221 0.0022238492965698242\n",
      "222 0.0022235498763620853\n",
      "223 0.002223257441073656\n",
      "224 0.0022229983005672693\n",
      "225 0.002222779905423522\n",
      "226 0.002222551731392741\n",
      "227 0.002222344744950533\n",
      "228 0.0022221661638468504\n",
      "229 0.002221992937847972\n",
      "230 0.0022218513768166304\n",
      "231 0.002221717033535242\n",
      "232 0.0022215810604393482\n",
      "233 0.0022214765194803476\n",
      "234 0.0022213475313037634\n",
      "235 0.0022212781477719545\n",
      "Wall time: 169 ms\n"
     ]
    }
   ],
   "source": [
    "%%time\n",
    "loss_arr = model.fit(N_epoch=300,\n",
    "                     eps=1e-7,\n",
    "                     criterion=criterion,\n",
    "                     optimizer=optimizer,\n",
    "                     x_data=x_data,\n",
    "                     y_data=y_data)"
   ]
  },
  {
   "cell_type": "markdown",
   "id": "2d35fef3",
   "metadata": {},
   "source": [
    "**После обучения**"
   ]
  },
  {
   "cell_type": "code",
   "execution_count": 9,
   "id": "3d835312",
   "metadata": {},
   "outputs": [
    {
     "data": {
      "text/plain": [
       "linear.weight tensor([[1.9973]])\n",
       "linear.bias tensor([-0.0276])"
      ]
     },
     "execution_count": 9,
     "metadata": {},
     "output_type": "execute_result"
    }
   ],
   "source": [
    "model"
   ]
  },
  {
   "cell_type": "code",
   "execution_count": 10,
   "id": "c82dddc6",
   "metadata": {},
   "outputs": [
    {
     "data": {
      "text/plain": [
       "0.0022211880423128605"
      ]
     },
     "execution_count": 10,
     "metadata": {},
     "output_type": "execute_result"
    }
   ],
   "source": [
    "pred_y = model(x_data)\n",
    "loss = criterion(pred_y, y_data)\n",
    "loss.item()"
   ]
  },
  {
   "cell_type": "markdown",
   "id": "bd98aa26",
   "metadata": {},
   "source": [
    "**График падения ошибки**"
   ]
  },
  {
   "cell_type": "code",
   "execution_count": 11,
   "id": "0a0bd8f7",
   "metadata": {},
   "outputs": [
    {
     "data": {
      "text/plain": [
       "[<matplotlib.lines.Line2D at 0x23c0d80d250>]"
      ]
     },
     "execution_count": 11,
     "metadata": {},
     "output_type": "execute_result"
    },
    {
     "data": {
      "image/png": "[encoded data removed]",
      "text/plain": [
       "<Figure size 432x288 with 1 Axes>"
      ]
     },
     "metadata": {
      "needs_background": "light"
     },
     "output_type": "display_data"
    }
   ],
   "source": [
    "xx = list(range(len(loss_arr)))\n",
    "yy = [l.item() for l in loss_arr]\n",
    "plt.plot(xx, yy)"
   ]
  },
  {
   "cell_type": "markdown",
   "id": "3a2b3824",
   "metadata": {},
   "source": [
    "**График полученной прямой**"
   ]
  },
  {
   "cell_type": "code",
   "execution_count": 12,
   "id": "79393799",
   "metadata": {},
   "outputs": [
    {
     "data": {
      "image/png": "[encoded data removed]",
      "text/plain": [
       "<Figure size 432x288 with 1 Axes>"
      ]
     },
     "metadata": {
      "needs_background": "light"
     },
     "output_type": "display_data"
    }
   ],
   "source": [
    "params_a_b = model.get_a_b()\n",
    "xx = list(np.arange(-1, 5, 0.1))\n",
    "yy = [params_a_b[0]*x+params_a_b[1] for x in xx]\n",
    "plt.plot(xx, yy, c='g')\n",
    "plt.scatter(x_data, y_data)\n",
    "plt.show()"
   ]
  },
  {
   "cell_type": "code",
   "execution_count": null,
   "id": "d9f4637e",
   "metadata": {},
   "outputs": [],
   "source": []
  }
 ],
 "metadata": {
  "kernelspec": {
   "display_name": "Python 3 (ipykernel)",
   "language": "python",
   "name": "python3"
  },
  "language_info": {
   "codemirror_mode": {
    "name": "ipython",
    "version": 3
   },
   "file_extension": ".py",
   "mimetype": "text/x-python",
   "name": "python",
   "nbconvert_exporter": "python",
   "pygments_lexer": "ipython3",
   "version": "3.9.6"
  }
 },
 "nbformat": 4,
 "nbformat_minor": 5
}
